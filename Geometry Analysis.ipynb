{
 "cells": [
  {
   "cell_type": "markdown",
   "metadata": {},
   "source": [
    "## Geometry Analysis Homework Solution with if Statements"
   ]
  },
  {
   "cell_type": "code",
   "execution_count": 1,
   "metadata": {},
   "outputs": [],
   "source": [
    "import numpy  #because you need the sqrt math in the solution\n",
    "import os #because we need to read the file/need os to find the file pathname"
   ]
  },
  {
   "cell_type": "code",
   "execution_count": 2,
   "metadata": {},
   "outputs": [
    {
     "name": "stdout",
     "output_type": "stream",
     "text": [
      "data/water.xyz\n"
     ]
    }
   ],
   "source": [
    "file_location = os.path.join('data', 'water.xyz')\n",
    "print(file_location)"
   ]
  },
  {
   "cell_type": "code",
   "execution_count": 3,
   "metadata": {},
   "outputs": [],
   "source": [
    "xyz_file = numpy.genfromtxt(fname=file_location, dtype='unicode', skip_header = 2)"
   ]
  },
  {
   "cell_type": "code",
   "execution_count": 4,
   "metadata": {},
   "outputs": [
    {
     "name": "stdout",
     "output_type": "stream",
     "text": [
      "[['O' '0.000000' '-0.007156' '0.965491']\n",
      " ['H1' '-0.000000' '0.001486' '-0.003471']\n",
      " ['H2' '0.000000' '0.931026' '1.207929']]\n"
     ]
    }
   ],
   "source": [
    "print(xyz_file)"
   ]
  },
  {
   "cell_type": "code",
   "execution_count": 6,
   "metadata": {},
   "outputs": [
    {
     "name": "stdout",
     "output_type": "stream",
     "text": [
      "['O' 'H1' 'H2']\n",
      "[['0.000000' '-0.007156' '0.965491']\n",
      " ['-0.000000' '0.001486' '-0.003471']\n",
      " ['0.000000' '0.931026' '1.207929']]\n"
     ]
    }
   ],
   "source": [
    "symbols = xyz_file[:, 0]\n",
    "coordinates = xyz_file[:, 1:]\n",
    "print(symbols)\n",
    "print(coordinates)"
   ]
  },
  {
   "cell_type": "code",
   "execution_count": 8,
   "metadata": {},
   "outputs": [
    {
     "name": "stdout",
     "output_type": "stream",
     "text": [
      "[[ 0.       -0.007156  0.965491]\n",
      " [-0.        0.001486 -0.003471]\n",
      " [ 0.        0.931026  1.207929]]\n"
     ]
    }
   ],
   "source": [
    "coordinates = coordinates.astype(numpy.float)\n",
    "print(coordinates)\n",
    "#$$ $$ is add formula ie /sqrt(x)"
   ]
  },
  {
   "cell_type": "markdown",
   "metadata": {},
   "source": [
    "$$ distance = \\sqrt{(x1-x2)^2 + (y1-y2)^2 + (z1-z2)^2} $$"
   ]
  },
  {
   "cell_type": "code",
   "execution_count": 15,
   "metadata": {},
   "outputs": [
    {
     "name": "stdout",
     "output_type": "stream",
     "text": [
      "3\n",
      " O to H1 :  0.969\n",
      " O to H2 :  0.969\n"
     ]
    }
   ],
   "source": [
    "num_atoms = len(symbols)\n",
    "print(num_atoms)\n",
    "for num1 in range(0, num_atoms):\n",
    "    for num2 in range(0, num_atoms):\n",
    "        #if num1 < num2 is the only condition, num1 = num2 (self-calculation) and \n",
    "        # num1 > num2 (duplication) won't execute/ recorded\n",
    "        if num1<num2: #prevents duplication of measurements\n",
    "            x_diff = coordinates[num1,0] - coordinates[num2,0]\n",
    "            y_diff = coordinates[num1,1] - coordinates[num2,1]\n",
    "            z_diff = coordinates[num1,2] - coordinates[num2,2]\n",
    "            distance = numpy.sqrt(x_diff**2 + y_diff**2 + z_diff**2)\n",
    "            #make the code as if only bonded atoms will only be calculated the distance\n",
    "            if distance > 0 and distance <= 1.5: \n",
    "                print(F' {symbols[num1]} to {symbols[num2]} : {distance: .3f}')"
   ]
  },
  {
   "cell_type": "code",
   "execution_count": null,
   "metadata": {},
   "outputs": [],
   "source": [
    "import numpy  #because you need the sqrt math in the solution\n",
    "import os #because we need to read the file/need os to find the file pathname\n",
    "\n",
    "file_location = os.path.join('data', 'water.xyz')\n",
    "xyz_file = numpy.genfromtxt(fname=file_location, dtype='unicode', skip_header = 2)\n",
    "symbols = xyz_file[:, 0]\n",
    "coordinates = xyz_file[:, 1:]\n",
    "coordinates = coordinates.astype(numpy.float)\n",
    "\n",
    "num_atoms = len(symbols)\n",
    "print(num_atoms)\n",
    "for num1 in range(0, num_atoms):\n",
    "    for num2 in range(0, num_atoms):\n",
    "        #if num1 < num2 is the only condition, num1 = num2 (self-calculation) and \n",
    "        # num1 > num2 (duplication) won't be executed/ recorded\n",
    "        if num1<num2: #prevents duplication of measurements\n",
    "            x_diff = coordinates[num1,0] - coordinates[num2,0]\n",
    "            y_diff = coordinates[num1,1] - coordinates[num2,1]\n",
    "            z_diff = coordinates[num1,2] - coordinates[num2,2]\n",
    "            distance = numpy.sqrt(x_diff**2 + y_diff**2 + z_diff**2)\n",
    "            #make the code as if only bonded atoms will only be calculated the distance\n",
    "            if distance > 0 and distance <= 1.5: \n",
    "                print(F' {symbols[num1]} to {symbols[num2]} : {distance: .3f}')"
   ]
  }
 ],
 "metadata": {
  "kernelspec": {
   "display_name": "Python 3",
   "language": "python",
   "name": "python3"
  },
  "language_info": {
   "codemirror_mode": {
    "name": "ipython",
    "version": 3
   },
   "file_extension": ".py",
   "mimetype": "text/x-python",
   "name": "python",
   "nbconvert_exporter": "python",
   "pygments_lexer": "ipython3",
   "version": "3.7.6"
  }
 },
 "nbformat": 4,
 "nbformat_minor": 4
}
