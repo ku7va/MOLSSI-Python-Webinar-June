{
 "cells": [
  {
   "cell_type": "markdown",
   "metadata": {},
   "source": [
    "## Data Extraction Homework"
   ]
  },
  {
   "cell_type": "code",
   "execution_count": 1,
   "metadata": {},
   "outputs": [
    {
     "name": "stdout",
     "output_type": "stream",
     "text": [
      "03_Prod.mdout              \u001b[34moutfiles\u001b[m\u001b[m/\r\n",
      "benzene.xyz                sapt.out\r\n",
      "buckminsterfullerene.xyz   water.xyz\r\n",
      "distance_data_headers.csv\r\n"
     ]
    }
   ],
   "source": [
    "ls data"
   ]
  },
  {
   "cell_type": "code",
   "execution_count": 2,
   "metadata": {},
   "outputs": [],
   "source": [
    "import os\n",
    "import glob "
   ]
  },
  {
   "cell_type": "code",
   "execution_count": 3,
   "metadata": {},
   "outputs": [
    {
     "name": "stdout",
     "output_type": "stream",
     "text": [
      "data/03_Prod.mdout\n"
     ]
    }
   ],
   "source": [
    "data_file = os.path.join('data', '03_Prod.mdout')\n",
    "print(data_file)"
   ]
  },
  {
   "cell_type": "code",
   "execution_count": 4,
   "metadata": {},
   "outputs": [],
   "source": [
    "filehandle = open('homeworkdata.txt', 'w+')\n",
    "outfile = open(data_file, 'r')\n",
    "data = outfile.readlines()\n",
    "outfile.close()\n",
    "\n",
    "for line in data:\n",
    "    if \"NSTEP\" in line:\n",
    "        nstep_line = line\n",
    "        cat = nstep_line.split()\n",
    "        nstep = float(cat[2])\n",
    "    if \"Etot\" in line:\n",
    "        energy_line = line\n",
    "        words = energy_line.split()\n",
    "        energy = float(words[2])\n",
    "        filehandle.write(F'{nstep} \\t {energy: .4f} \\n')\n",
    "filehandle.close()\n",
    "                "
   ]
  },
  {
   "cell_type": "code",
   "execution_count": null,
   "metadata": {},
   "outputs": [],
   "source": []
  }
 ],
 "metadata": {
  "kernelspec": {
   "display_name": "Python 3",
   "language": "python",
   "name": "python3"
  },
  "language_info": {
   "codemirror_mode": {
    "name": "ipython",
    "version": 3
   },
   "file_extension": ".py",
   "mimetype": "text/x-python",
   "name": "python",
   "nbconvert_exporter": "python",
   "pygments_lexer": "ipython3",
   "version": "3.7.6"
  }
 },
 "nbformat": 4,
 "nbformat_minor": 4
}
