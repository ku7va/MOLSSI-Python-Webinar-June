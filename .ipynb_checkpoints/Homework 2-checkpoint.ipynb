{
 "cells": [
  {
   "cell_type": "markdown",
   "metadata": {},
   "source": [
    "## Homework2"
   ]
  },
  {
   "cell_type": "code",
   "execution_count": 96,
   "metadata": {},
   "outputs": [],
   "source": [
    "import numpy\n",
    "import os"
   ]
  },
  {
   "cell_type": "code",
   "execution_count": 97,
   "metadata": {},
   "outputs": [
    {
     "name": "stdout",
     "output_type": "stream",
     "text": [
      "[['O' '0.000000' '-0.007156' '0.965491']\n",
      " ['H1' '-0.000000' '0.001486' '-0.003471']\n",
      " ['H2' '0.000000' '0.931026' '1.207929']]\n"
     ]
    }
   ],
   "source": [
    "water_file = os.path.join('data', 'water.xyz')\n",
    "## skip_header = 2 skips the first two lines of the file\n",
    "water_xyz = numpy.genfromtxt(fname=water_file, delimiter ='', dtype='unicode', skip_header = 2)\n",
    "print(water_xyz)"
   ]
  },
  {
   "cell_type": "code",
   "execution_count": 98,
   "metadata": {},
   "outputs": [
    {
     "name": "stdout",
     "output_type": "stream",
     "text": [
      "[['0.000000' '-0.007156' '0.965491']\n",
      " ['-0.000000' '0.001486' '-0.003471']\n",
      " ['0.000000' '0.931026' '1.207929']]\n"
     ]
    }
   ],
   "source": [
    "coordinates = water_xyz[0:, 1:]\n",
    "print(coordinates)"
   ]
  },
  {
   "cell_type": "code",
   "execution_count": 99,
   "metadata": {},
   "outputs": [
    {
     "name": "stdout",
     "output_type": "stream",
     "text": [
      "['O' 'H1' 'H2']\n"
     ]
    }
   ],
   "source": [
    "rows_name = water_xyz[:,0]\n",
    "print(rows_name)"
   ]
  },
  {
   "cell_type": "code",
   "execution_count": 108,
   "metadata": {},
   "outputs": [
    {
     "name": "stdout",
     "output_type": "stream",
     "text": [
      "[[ 0.       -0.007156  0.965491]\n",
      " [-0.        0.001486 -0.003471]\n",
      " [ 0.        0.931026  1.207929]]\n",
      "3\n",
      "3\n"
     ]
    }
   ],
   "source": [
    "coordinates = coordinates.astype(numpy.float)\n",
    "num_col = len(coordinates[0,:])\n",
    "num_rows = len(rows_name)\n",
    "print(coordinates)\n",
    "print(num_col)\n",
    "print(num_rows)"
   ]
  },
  {
   "cell_type": "code",
   "execution_count": 131,
   "metadata": {},
   "outputs": [
    {
     "name": "stdout",
     "output_type": "stream",
     "text": [
      " The distance between O and O is  0.000 angstrom\n",
      " The distance between O and H1 is  0.969 angstrom\n",
      " The distance between O and H2 is  0.969 angstrom\n",
      " The distance between H1 and O is  0.969 angstrom\n",
      " The distance between H1 and H1 is  0.000 angstrom\n",
      " The distance between H1 and H2 is  1.527 angstrom\n",
      " The distance between H2 and O is  0.969 angstrom\n",
      " The distance between H2 and H1 is  1.527 angstrom\n",
      " The distance between H2 and H2 is  0.000 angstrom\n"
     ]
    }
   ],
   "source": [
    "for i in range(0, num_rows):\n",
    "    line = i\n",
    "    for j in range(0, num_rows):\n",
    "        line2 = j\n",
    "        xdiff = (coordinates[line2, 0] - coordinates[line, 0])**2\n",
    "        ydiff = (coordinates[line2, 1] - coordinates[line, 1])**2\n",
    "        zdiff = (coordinates[line2, 2] - coordinates[line, 2])**2\n",
    "        distance = numpy.sqrt(xdiff + ydiff + zdiff) \n",
    "        print(F' The distance between {rows_name[i]} and {rows_name[j]} is {distance: .3f} angstrom')"
   ]
  },
  {
   "cell_type": "code",
   "execution_count": null,
   "metadata": {},
   "outputs": [],
   "source": []
  }
 ],
 "metadata": {
  "kernelspec": {
   "display_name": "Python 3",
   "language": "python",
   "name": "python3"
  },
  "language_info": {
   "codemirror_mode": {
    "name": "ipython",
    "version": 3
   },
   "file_extension": ".py",
   "mimetype": "text/x-python",
   "name": "python",
   "nbconvert_exporter": "python",
   "pygments_lexer": "ipython3",
   "version": "3.7.6"
  }
 },
 "nbformat": 4,
 "nbformat_minor": 4
}
