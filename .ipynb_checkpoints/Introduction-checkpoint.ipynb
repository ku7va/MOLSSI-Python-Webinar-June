{
 "cells": [
  {
   "cell_type": "markdown",
   "metadata": {},
   "source": [
    "# MoISSI Workshop\n",
    "## Introduction"
   ]
  },
  {
   "cell_type": "code",
   "execution_count": 1,
   "metadata": {},
   "outputs": [],
   "source": [
    "deltaH = -541.5 #kJ/mol\n",
    "deltaS = 10.4 #kJ/molK\n",
    "temperature = 298 #K\n",
    "deltaG = deltaH - temperature*deltaS"
   ]
  },
  {
   "cell_type": "code",
   "execution_count": 2,
   "metadata": {},
   "outputs": [
    {
     "name": "stdout",
     "output_type": "stream",
     "text": [
      "-3640.7000000000003\n"
     ]
    }
   ],
   "source": [
    "print(deltaG)"
   ]
  },
  {
   "cell_type": "code",
   "execution_count": 3,
   "metadata": {},
   "outputs": [
    {
     "name": "stdout",
     "output_type": "stream",
     "text": [
      "-3640.7000000000003\n",
      "-3640700.0000000005\n"
     ]
    }
   ],
   "source": [
    "deltaG_joules = deltaG*1000 #has to assign a variable name\n",
    "print(deltaG)\n",
    "print(deltaG_joules)"
   ]
  },
  {
   "cell_type": "code",
   "execution_count": 4,
   "metadata": {},
   "outputs": [
    {
     "name": "stdout",
     "output_type": "stream",
     "text": [
      "-3640.6000000000004\n"
     ]
    }
   ],
   "source": [
    "deltaH, deltaS, temperature = -541.4, 10.4, 298 #list variables and values\n",
    "deltaG = deltaH - deltaS*temperature\n",
    "print(deltaG) "
   ]
  },
  {
   "cell_type": "code",
   "execution_count": 6,
   "metadata": {},
   "outputs": [],
   "source": [
    "#When an error is encountered, look at the bottom to find out the reasoning of the error"
   ]
  },
  {
   "cell_type": "code",
   "execution_count": 7,
   "metadata": {},
   "outputs": [
    {
     "data": {
      "text/plain": [
       "float"
      ]
     },
     "execution_count": 7,
     "metadata": {},
     "output_type": "execute_result"
    }
   ],
   "source": [
    "#Data type\n",
    "type(deltaG)"
   ]
  },
  {
   "cell_type": "code",
   "execution_count": 9,
   "metadata": {},
   "outputs": [
    {
     "data": {
      "text/plain": [
       "str"
      ]
     },
     "execution_count": 9,
     "metadata": {},
     "output_type": "execute_result"
    }
   ],
   "source": [
    "#float = a floating point number (decimal number)\n",
    "#Common data types: str (String), int (Integers)\n",
    "#Casting = changing the name of the variable\n",
    "deltaG_string = str(deltaG)\n",
    "type(deltaG_string)"
   ]
  },
  {
   "cell_type": "code",
   "execution_count": 13,
   "metadata": {},
   "outputs": [
    {
     "name": "stdout",
     "output_type": "stream",
     "text": [
      "The length of the list is 4\n"
     ]
    }
   ],
   "source": [
    "#List\n",
    "energy_kcal = [-13.4, -2.7, 5.4, 42.1]\n",
    "len(energy_kcal) #determine the number of values in the list\n",
    "energy_length = len(energy_kcal)\n",
    "print('The length of the list is', energy_length) #add '' to add text into printing"
   ]
  },
  {
   "cell_type": "code",
   "execution_count": 14,
   "metadata": {},
   "outputs": [
    {
     "name": "stdout",
     "output_type": "stream",
     "text": [
      "-13.4\n"
     ]
    }
   ],
   "source": [
    "#To access a particular part of the list\n",
    "print(energy_kcal[0]) #index starts at 0, so -13.4 is at 0\n",
    "#add the variable name and bracket"
   ]
  },
  {
   "cell_type": "code",
   "execution_count": 15,
   "metadata": {},
   "outputs": [
    {
     "name": "stdout",
     "output_type": "stream",
     "text": [
      "-11.296800000000001\n"
     ]
    }
   ],
   "source": [
    "energy_kilojoules = energy_kcal[1]*4.184\n",
    "print(energy_kilojoules)"
   ]
  },
  {
   "cell_type": "code",
   "execution_count": 16,
   "metadata": {},
   "outputs": [
    {
     "name": "stdout",
     "output_type": "stream",
     "text": [
      "[-13.4, -2.7]\n"
     ]
    }
   ],
   "source": [
    "#Taking slice - new list that is a subset of an old list\n",
    "#new_list = list_name[start:end] \n",
    "short_list = energy_kcal[0:2] #This won't include element 2!!! It's always from [start, end)\n",
    "print(short_list) \n",
    "#IF no index is not specified, it starts at index zero, if no end is specified, it will go to the end of the list,\n",
    "#including the last index"
   ]
  },
  {
   "cell_type": "code",
   "execution_count": 17,
   "metadata": {},
   "outputs": [
    {
     "name": "stdout",
     "output_type": "stream",
     "text": [
      "Slice1 is [-2.7, 5.4, 42.1]\n",
      "Slice2 is [-13.4, -2.7, 5.4]\n"
     ]
    }
   ],
   "source": [
    "alice1 = energy_kcal[1:] #Prints -2.7, 5.4, 42.1\n",
    "alice2 = energy_kcal[:3] #Prints -13.4, -2.7, 5.4\n",
    "print('Slice1 is', alice1)\n",
    "print('Slice2 is', alice2)"
   ]
  },
  {
   "cell_type": "code",
   "execution_count": 18,
   "metadata": {},
   "outputs": [
    {
     "name": "stdout",
     "output_type": "stream",
     "text": [
      "[-13.4, -2.7, 5.4, 42.1]\n",
      "[-13.4, -2.7]\n"
     ]
    }
   ],
   "source": [
    "#new name when making a new file\n",
    "short_list = energy_kcal[0:2]\n",
    "print(energy_kcal)\n",
    "print(short_list)"
   ]
  },
  {
   "cell_type": "code",
   "execution_count": 19,
   "metadata": {},
   "outputs": [
    {
     "name": "stdout",
     "output_type": "stream",
     "text": [
      "-56.0656\n",
      "-11.296800000000001\n",
      "22.593600000000002\n",
      "176.1464\n"
     ]
    }
   ],
   "source": [
    "# for loop\n",
    "#for variableName in list:\n",
    "#    do things with variableName\n",
    "for number in energy_kcal: #number is each element in the list\n",
    "    kJ = number*4.184\n",
    "    print(kJ) #need to save the values in a new list to preserve it"
   ]
  },
  {
   "cell_type": "code",
   "execution_count": 21,
   "metadata": {},
   "outputs": [
    {
     "name": "stdout",
     "output_type": "stream",
     "text": [
      "[-56.0656]\n",
      "[-56.0656, -11.296800000000001]\n",
      "[-56.0656, -11.296800000000001, 22.593600000000002]\n",
      "[-56.0656, -11.296800000000001, 22.593600000000002, 176.1464]\n"
     ]
    }
   ],
   "source": [
    "#list_name.append(new_thing)\n",
    "energy_kJ = [] #need to introduce new variable before you can append it!\n",
    "for number in energy_kcal: \n",
    "    kJ = number*4.184\n",
    "    energy_kJ.append(kJ)"
   ]
  },
  {
   "cell_type": "code",
   "execution_count": 22,
   "metadata": {},
   "outputs": [
    {
     "name": "stdout",
     "output_type": "stream",
     "text": [
      "[-56.0656, -11.296800000000001, 22.593600000000002, 176.1464]\n"
     ]
    }
   ],
   "source": [
    "print(energy_kJ)"
   ]
  },
  {
   "cell_type": "code",
   "execution_count": 23,
   "metadata": {},
   "outputs": [
    {
     "name": "stdout",
     "output_type": "stream",
     "text": [
      "[-13.4, -2.7]\n"
     ]
    }
   ],
   "source": [
    "negative_energy = []\n",
    "\n",
    "for number in energy_kcal:\n",
    "    if number < 0: #conditional statements, else if to indicate what to do otherwise\n",
    "        negative_energy.append(number) # == equal, != not equal, \n",
    "print(negative_energy) #and or and not to add more conditions"
   ]
  },
  {
   "cell_type": "code",
   "execution_count": null,
   "metadata": {},
   "outputs": [],
   "source": [
    "#When you exit out Jupiter, the variables will get lost, \n",
    "#so you have to rerun all of the code by \"Kernel > Restart\""
   ]
  }
 ],
 "metadata": {
  "kernelspec": {
   "display_name": "Python 3",
   "language": "python",
   "name": "python3"
  },
  "language_info": {
   "codemirror_mode": {
    "name": "ipython",
    "version": 3
   },
   "file_extension": ".py",
   "mimetype": "text/x-python",
   "name": "python",
   "nbconvert_exporter": "python",
   "pygments_lexer": "ipython3",
   "version": "3.7.6"
  }
 },
 "nbformat": 4,
 "nbformat_minor": 4
}
