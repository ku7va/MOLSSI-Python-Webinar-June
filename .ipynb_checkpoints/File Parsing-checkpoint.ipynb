{
 "cells": [
  {
   "cell_type": "markdown",
   "metadata": {},
   "source": [
    "## File Parsing"
   ]
  },
  {
   "cell_type": "code",
   "execution_count": 3,
   "metadata": {},
   "outputs": [
    {
     "name": "stdout",
     "output_type": "stream",
     "text": [
      "03_Prod.mdout              \u001b[34moutfiles\u001b[m\u001b[m/\r\n",
      "benzene.xyz                sapt.out\r\n",
      "buckminsterfullerene.xyz   water.xyz\r\n",
      "distance_data_headers.csv\r\n"
     ]
    }
   ],
   "source": [
    "ls data"
   ]
  },
  {
   "cell_type": "code",
   "execution_count": 4,
   "metadata": {},
   "outputs": [
    {
     "data": {
      "text/plain": [
       "'/Users/kevin/Desktop/cms-workshop'"
      ]
     },
     "execution_count": 4,
     "metadata": {},
     "output_type": "execute_result"
    }
   ],
   "source": [
    "pwd"
   ]
  },
  {
   "cell_type": "code",
   "execution_count": 5,
   "metadata": {},
   "outputs": [],
   "source": [
    "# To make the code work on all computers (ie Windows, Mac, Linux), use a Python Library\n",
    "# Inter-operable commands\n",
    "\n",
    "import os #import the functions from \"os\" from the python library"
   ]
  },
  {
   "cell_type": "code",
   "execution_count": 7,
   "metadata": {},
   "outputs": [
    {
     "name": "stdout",
     "output_type": "stream",
     "text": [
      "data/outfiles/ethanol.out\n"
     ]
    }
   ],
   "source": [
    "ethanol_file = os.path.join('data', 'outfiles', 'ethanol.out')\n",
    "print(ethanol_file)\n",
    "# don't just add the pathway, it won't be inter-operable\n",
    "# make sure you are in the big folder\n",
    "# \".\" syntax - \"join\" is inside \"path\" and \"path\" is inside of \"os\" folder"
   ]
  },
  {
   "cell_type": "code",
   "execution_count": 8,
   "metadata": {},
   "outputs": [],
   "source": [
    "outfile = open(ethanol_file, 'r') #variable file pointer, help us open the file\n",
    "data = outfile.readlines() # 'r' is indicates reading\n",
    "outfile.close() \n",
    "# readlines read all of the information in the file and save each file in the list specified, \n",
    "# which is data in this example"
   ]
  },
  {
   "cell_type": "code",
   "execution_count": 10,
   "metadata": {},
   "outputs": [
    {
     "name": "stdout",
     "output_type": "stream",
     "text": [
      "There are 270 lines in the file\n"
     ]
    }
   ],
   "source": [
    "# How can you use the skill you've learned to determine how many lines are there in the file\n",
    "lines = len(data)\n",
    "print(\"There are\", lines, 'lines in the file')"
   ]
  },
  {
   "cell_type": "code",
   "execution_count": 11,
   "metadata": {},
   "outputs": [
    {
     "name": "stdout",
     "output_type": "stream",
     "text": [
      "  @DF-RHF Final Energy:  -154.09130176573018\n",
      "\n"
     ]
    }
   ],
   "source": [
    "#Go through everyline in the file, list in \"data\"\n",
    "for line in data:\n",
    "    if \"Final Energy\" in line: #if the list/line contains \"Final Energy\", put it in\n",
    "        energy_line = line  #energy_line\n",
    "        print(energy_line)"
   ]
  },
  {
   "cell_type": "code",
   "execution_count": 12,
   "metadata": {},
   "outputs": [
    {
     "name": "stdout",
     "output_type": "stream",
     "text": [
      "['@DF-RHF', 'Final', 'Energy:', '-154.09130176573018']\n"
     ]
    }
   ],
   "source": [
    "words = energy_line.split() \n",
    "#split the output into compartments, blank (by white space), specific word/punctuations \n",
    "#(on specific word/punctuations)\n",
    "print(words)"
   ]
  },
  {
   "cell_type": "code",
   "execution_count": 13,
   "metadata": {},
   "outputs": [
    {
     "name": "stdout",
     "output_type": "stream",
     "text": [
      "-154.09130176573018\n"
     ]
    }
   ],
   "source": [
    "energy = words[3]\n",
    "print(energy)"
   ]
  },
  {
   "cell_type": "code",
   "execution_count": 14,
   "metadata": {},
   "outputs": [
    {
     "name": "stdout",
     "output_type": "stream",
     "text": [
      "-154.09130176573018\n"
     ]
    }
   ],
   "source": [
    "energy = words[-1] #index of -1 indicates the last element in the list\n",
    "print(energy)"
   ]
  },
  {
   "cell_type": "code",
   "execution_count": 15,
   "metadata": {},
   "outputs": [
    {
     "data": {
      "text/plain": [
       "str"
      ]
     },
     "execution_count": 15,
     "metadata": {},
     "output_type": "execute_result"
    }
   ],
   "source": [
    "type(energy) #determine the type of a variable"
   ]
  },
  {
   "cell_type": "code",
   "execution_count": 16,
   "metadata": {},
   "outputs": [],
   "source": [
    "#Convert variables into different variables\n",
    "energy = float(energy)"
   ]
  },
  {
   "cell_type": "code",
   "execution_count": 17,
   "metadata": {},
   "outputs": [
    {
     "data": {
      "text/plain": [
       "float"
      ]
     },
     "execution_count": 17,
     "metadata": {},
     "output_type": "execute_result"
    }
   ],
   "source": [
    "type(energy)"
   ]
  },
  {
   "cell_type": "code",
   "execution_count": 18,
   "metadata": {},
   "outputs": [
    {
     "data": {
      "text/plain": [
       "-104.09130176573018"
      ]
     },
     "execution_count": 18,
     "metadata": {},
     "output_type": "execute_result"
    }
   ],
   "source": [
    "energy + 50"
   ]
  },
  {
   "cell_type": "code",
   "execution_count": 19,
   "metadata": {},
   "outputs": [],
   "source": [
    "import glob #A library help us analyze multiple files"
   ]
  },
  {
   "cell_type": "code",
   "execution_count": 22,
   "metadata": {},
   "outputs": [
    {
     "name": "stdout",
     "output_type": "stream",
     "text": [
      "data/outfiles/*.out\n"
     ]
    }
   ],
   "source": [
    "file_location = os.path.join('data', 'outfiles', '*.out')\n",
    "# \"*\" wildecard character, meaning any character with .out\n",
    "print(file_location)"
   ]
  },
  {
   "cell_type": "code",
   "execution_count": 23,
   "metadata": {},
   "outputs": [
    {
     "name": "stdout",
     "output_type": "stream",
     "text": [
      "['data/outfiles/butanol.out', 'data/outfiles/decanol.out', 'data/outfiles/ethanol.out', 'data/outfiles/heptanol.out', 'data/outfiles/hexanol.out', 'data/outfiles/methanol.out', 'data/outfiles/nonanol.out', 'data/outfiles/octanol.out', 'data/outfiles/pentanol.out', 'data/outfiles/propanol.out']\n"
     ]
    }
   ],
   "source": [
    "filenames = glob.glob(file_location) #put the files in file name\n",
    "print(filenames)"
   ]
  },
  {
   "cell_type": "code",
   "execution_count": 24,
   "metadata": {},
   "outputs": [
    {
     "name": "stdout",
     "output_type": "stream",
     "text": [
      "-232.1655798347283\n",
      "-466.3836241400086\n",
      "-154.09130176573018\n",
      "-349.27397687072676\n",
      "-310.2385332251633\n",
      "-115.04800861868374\n",
      "-427.3465180082815\n",
      "-388.3110864554743\n",
      "-271.20138119895074\n",
      "-193.12836249728798\n"
     ]
    }
   ],
   "source": [
    "for file in filenames:\n",
    "    outfile = open(file, 'r') #opening the file\n",
    "    data = outfile.readlines() #reading all file\n",
    "    outfile.close()\n",
    "    for line in data:\n",
    "        if \"Final Energy\" in line: #looking for final energy in each line\n",
    "            energy_line = line #saves the line data\n",
    "            words = energy_line.split() #split the string output\n",
    "            energy = float(words[3]) #just saves the data you want\n",
    "            print(energy)"
   ]
  },
  {
   "cell_type": "code",
   "execution_count": 26,
   "metadata": {},
   "outputs": [
    {
     "name": "stdout",
     "output_type": "stream",
     "text": [
      "data/outfiles/butanol.out\n"
     ]
    }
   ],
   "source": [
    "#Determine which data belongs to file\n",
    "first_file = filenames[0]\n",
    "print(first_file)"
   ]
  },
  {
   "cell_type": "code",
   "execution_count": 27,
   "metadata": {},
   "outputs": [
    {
     "name": "stdout",
     "output_type": "stream",
     "text": [
      "butanol.out\n"
     ]
    }
   ],
   "source": [
    "#access base name\n",
    "file_name = os.path.basename(first_file)\n",
    "print(file_name) "
   ]
  },
  {
   "cell_type": "code",
   "execution_count": 30,
   "metadata": {},
   "outputs": [
    {
     "name": "stdout",
     "output_type": "stream",
     "text": [
      "butanol\n"
     ]
    }
   ],
   "source": [
    "#Label each of the energies with the file name\n",
    "split_filename = file_name.split(\".\")\n",
    "molecule_name = split_filename[0]\n",
    "print(molecule_name)"
   ]
  },
  {
   "cell_type": "code",
   "execution_count": 31,
   "metadata": {},
   "outputs": [
    {
     "name": "stdout",
     "output_type": "stream",
     "text": [
      "butanol -232.1655798347283\n",
      "decanol -466.3836241400086\n",
      "ethanol -154.09130176573018\n",
      "heptanol -349.27397687072676\n",
      "hexanol -310.2385332251633\n",
      "methanol -115.04800861868374\n",
      "nonanol -427.3465180082815\n",
      "octanol -388.3110864554743\n",
      "pentanol -271.20138119895074\n",
      "propanol -193.12836249728798\n"
     ]
    }
   ],
   "source": [
    "for file in filenames:\n",
    "    file_name = os.path.basename(file) #access which file it is from\n",
    "    split_filename = file_name.split('.')\n",
    "    molecule_name = split_filename[0]\n",
    "    \n",
    "    outfile = open(file, 'r') #opening the file\n",
    "    data = outfile.readlines() #reading all file\n",
    "    outfile.close()\n",
    "    \n",
    "    for line in data:\n",
    "        if \"Final Energy\" in line: #looking for final energy in each line\n",
    "            energy_line = line #saves the line data\n",
    "            words = energy_line.split() #split the string output\n",
    "            energy = float(words[3]) #just saves the data you want\n",
    "            print(molecule_name, energy)"
   ]
  },
  {
   "cell_type": "code",
   "execution_count": 36,
   "metadata": {},
   "outputs": [],
   "source": [
    "#Write these extracted data into a new file\n",
    "filehandle = open('energies.txt', 'w+')\n",
    "#to write, put \"w\", adding \"+\" will make the file if it doesnt exist\n",
    "for file in filenames:\n",
    "    file_name = os.path.basename(file) #access which file it is from\n",
    "    split_filename = file_name.split('.')\n",
    "    molecule_name = split_filename[0]\n",
    "    \n",
    "    outfile = open(file, 'r') #opening the file\n",
    "    data = outfile.readlines() #reading all file\n",
    "    outfile.close()\n",
    "    \n",
    "    for line in data:\n",
    "        if \"Final Energy\" in line: #looking for final energy in each line\n",
    "            energy_line = line #saves the line data\n",
    "            words = energy_line.split() #split the string output\n",
    "            energy = float(words[3]) #just saves the data you want\n",
    "            filehandle.write(F'{molecule_name} \\t {energy: .4f} \\n') #to write excrated data into s file\n",
    "            #\"F'to force it to be a string, if it is variable, \n",
    "            # add curly braces to prevent it from interpreting as a string of words\n",
    "            # \\t is for tab spacing, \\n is for new line for every data\n",
    "            #adding \": .4f\" to control the number of decimal places in the data\n",
    "filehandle.close() #program won't write anything until you close the file name"
   ]
  },
  {
   "cell_type": "code",
   "execution_count": null,
   "metadata": {},
   "outputs": [],
   "source": []
  }
 ],
 "metadata": {
  "kernelspec": {
   "display_name": "Python 3",
   "language": "python",
   "name": "python3"
  },
  "language_info": {
   "codemirror_mode": {
    "name": "ipython",
    "version": 3
   },
   "file_extension": ".py",
   "mimetype": "text/x-python",
   "name": "python",
   "nbconvert_exporter": "python",
   "pygments_lexer": "ipython3",
   "version": "3.7.6"
  }
 },
 "nbformat": 4,
 "nbformat_minor": 4
}
