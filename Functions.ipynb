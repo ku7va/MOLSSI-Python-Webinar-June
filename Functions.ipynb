{
 "cells": [
  {
   "cell_type": "markdown",
   "metadata": {},
   "source": [
    "## Writing Functions"
   ]
  },
  {
   "cell_type": "code",
   "execution_count": 1,
   "metadata": {},
   "outputs": [],
   "source": [
    "#A function can only perform one specific task\n",
    "#writing a new functions, generic formula\n",
    "\n",
    "##def function_name(parameters):\n",
    "    ##** body of your code **\n",
    "    ##return value_to_return"
   ]
  },
  {
   "cell_type": "code",
   "execution_count": 4,
   "metadata": {},
   "outputs": [],
   "source": [
    "import numpy\n",
    "import os\n",
    "\n",
    "file_location = os.path.join('data', 'water.xyz')\n",
    "xyz_file = numpy.genfromtxt(fname=file_location, dtype='unicode', skip_header = 2)\n",
    "symbols = xyz_file[:, 0]\n",
    "coordinates = xyz_file[:, 1:]\n",
    "coordinates = coordinates.astype(numpy.float)"
   ]
  },
  {
   "cell_type": "code",
   "execution_count": 6,
   "metadata": {},
   "outputs": [],
   "source": [
    "def calculate_distance(coords1, coords2): #think of the simplest imputs\n",
    "    x_distance = coords1[0] - coords2[0]\n",
    "    y_distance = coords1[1] - coords2[1]\n",
    "    z_distance = coords1[2] - coords2[2]\n",
    "    distance = numpy.sqrt(x_distance**2 + y_distance**2 + z_distance**2)\n",
    "    return distance"
   ]
  },
  {
   "cell_type": "code",
   "execution_count": 8,
   "metadata": {},
   "outputs": [
    {
     "data": {
      "text/plain": [
       "1.0"
      ]
     },
     "execution_count": 8,
     "metadata": {},
     "output_type": "execute_result"
    }
   ],
   "source": [
    "#Example\n",
    "vector1 = [0, 0, 0]\n",
    "vector2 = [0, 0, 1]\n",
    "calculate_distance(vector1, vector2)"
   ]
  },
  {
   "cell_type": "code",
   "execution_count": 11,
   "metadata": {},
   "outputs": [
    {
     "name": "stdout",
     "output_type": "stream",
     "text": [
      " O to H1 :  0.969\n",
      " O to H2 :  0.969\n"
     ]
    }
   ],
   "source": [
    "import numpy\n",
    "import os\n",
    "\n",
    "file_location = os.path.join('data', 'water.xyz')\n",
    "xyz_file = numpy.genfromtxt(fname=file_location, dtype='unicode', skip_header = 2)\n",
    "symbols = xyz_file[:, 0]\n",
    "coordinates = xyz_file[:, 1:]\n",
    "coordinates = coordinates.astype(numpy.float)\n",
    "num_atoms = len(symbols)\n",
    "for num1 in range(0, num_atoms):\n",
    "    for num2 in range(0, num_atoms):\n",
    "        if num1 < num2:\n",
    "            distance = calculate_distance(coordinates[num1], coordinates[num2])\n",
    "            if distance > 0 and distance <= 1.5:\n",
    "                print(F' {symbols[num1]} to {symbols[num2]} : {distance: .3f}')"
   ]
  },
  {
   "cell_type": "code",
   "execution_count": 24,
   "metadata": {},
   "outputs": [],
   "source": [
    "#Adding defaults to the parameters by putting =\n",
    "def bond_check(atom_distance, min_input=0, max_input=1.5):\n",
    "    #How to write documentation to help the user\n",
    "    \"\"\"\n",
    "    Check if a distance is a bond on a minimum and maximum length.\n",
    "    Inputs: distance, min_input, max_input\n",
    "    Return: True or False\n",
    "    \"\"\"\n",
    "    if atom_distance > min_input and atom_distance <= max_input:\n",
    "        return True\n",
    "    else:\n",
    "        return False"
   ]
  },
  {
   "cell_type": "code",
   "execution_count": 25,
   "metadata": {},
   "outputs": [
    {
     "data": {
      "text/plain": [
       "True"
      ]
     },
     "execution_count": 25,
     "metadata": {},
     "output_type": "execute_result"
    }
   ],
   "source": [
    "bond_check(1.2)"
   ]
  },
  {
   "cell_type": "code",
   "execution_count": 28,
   "metadata": {},
   "outputs": [
    {
     "data": {
      "text/plain": [
       "False"
      ]
     },
     "execution_count": 28,
     "metadata": {},
     "output_type": "execute_result"
    }
   ],
   "source": [
    "#Allows you to redefine default at program's execution\n",
    "bond_check(2.7, max_input=2.0)"
   ]
  },
  {
   "cell_type": "code",
   "execution_count": 19,
   "metadata": {},
   "outputs": [
    {
     "data": {
      "text/plain": [
       "False"
      ]
     },
     "execution_count": 19,
     "metadata": {},
     "output_type": "execute_result"
    }
   ],
   "source": [
    "bond_check(-1.7, 0, 1.5)"
   ]
  },
  {
   "cell_type": "code",
   "execution_count": 30,
   "metadata": {},
   "outputs": [
    {
     "name": "stdout",
     "output_type": "stream",
     "text": [
      " O to H1 :  0.969\n",
      " O to H2 :  0.969\n"
     ]
    }
   ],
   "source": [
    "#Adding the bond check function\n",
    "\n",
    "import numpy\n",
    "import os\n",
    "\n",
    "def calculate_distance(coords1, coords2): #think of the simplest imputs\n",
    "    \"\"\"\n",
    "    Calculate the distance between 2 atoms, using paramenters that define one list of atomic xyz\n",
    "    coordinates [xcoor, ycoor, zcoor]. Each parameters makes it 1D array.\n",
    "    \"\"\"\n",
    "    x_distance = coords1[0] - coords2[0]\n",
    "    y_distance = coords1[1] - coords2[1]\n",
    "    z_distance = coords1[2] - coords2[2]\n",
    "    distance = numpy.sqrt(x_distance**2 + y_distance**2 + z_distance**2)\n",
    "    return distance\n",
    "\n",
    "def bond_check(atom_distance, min_input=0, max_input=1.5):\n",
    "    #How to write documentation to help the user\n",
    "    \"\"\"\n",
    "    Check if a distance is a bond on a minimum and maximum length.\n",
    "    Inputs: distance, min_input, max_input\n",
    "    Return: True or False\n",
    "    \"\"\"\n",
    "    if atom_distance > min_input and atom_distance <= max_input:\n",
    "        return True\n",
    "    else:\n",
    "        return False\n",
    "    \n",
    "file_location = os.path.join('data', 'water.xyz')\n",
    "xyz_file = numpy.genfromtxt(fname=file_location, dtype='unicode', skip_header = 2)\n",
    "symbols = xyz_file[:, 0]\n",
    "coordinates = xyz_file[:, 1:]\n",
    "coordinates = coordinates.astype(numpy.float)\n",
    "num_atoms = len(symbols)\n",
    "for num1 in range(0, num_atoms):\n",
    "    for num2 in range(0, num_atoms):\n",
    "        if num1 < num2:\n",
    "            distance = calculate_distance(coordinates[num1], coordinates[num2])\n",
    "            if bond_check(distance) is True: #Modification is in this line\n",
    "                print(F' {symbols[num1]} to {symbols[num2]} : {distance: .3f}')"
   ]
  },
  {
   "cell_type": "markdown",
   "metadata": {},
   "source": [
    "## How to make these code executable in terminal\n",
    "\n",
    "#Go to cms-folder and under new, pick terminal rather than Python 3\n",
    "#in the terminal, execute pwd\n",
    "#then go to the Desktop and then into the cms-workshop folder\n",
    "#Take the full pathname by pwd\n",
    "#move the code from the jupiter textbook to a text file in the Jupyter Notebook Desktop/cms-#workshop\n",
    "#to do this click new and text, copy the specific code and paste it to the text file\n",
    "#save the file as *.py, make sure to click save\n",
    "#Go back to the terminal, and execute the program by \"python3.7 *.py\"\n",
    "#Make sure you are in the same folder where *.py file is located\n"
   ]
  },
  {
   "cell_type": "code",
   "execution_count": null,
   "metadata": {},
   "outputs": [],
   "source": []
  }
 ],
 "metadata": {
  "kernelspec": {
   "display_name": "Python 3",
   "language": "python",
   "name": "python3"
  },
  "language_info": {
   "codemirror_mode": {
    "name": "ipython",
    "version": 3
   },
   "file_extension": ".py",
   "mimetype": "text/x-python",
   "name": "python",
   "nbconvert_exporter": "python",
   "pygments_lexer": "ipython3",
   "version": "3.7.6"
  }
 },
 "nbformat": 4,
 "nbformat_minor": 4
}
